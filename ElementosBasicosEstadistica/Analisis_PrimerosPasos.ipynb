{
 "cells": [
  {
   "cell_type": "markdown",
   "metadata": {},
   "source": [
    "MALDONADO_ALCALA_LEONARDO_6IV8_ANALISIS_DE_DATOS\n",
    "NOTEBOOK DE ANALISIS DE DATOS 1"
   ]
  },
  {
   "cell_type": "markdown",
   "metadata": {},
   "source": [
    "Primero instalamos librerias, llamamos los csv y los guardamos en variables\n",
    "y el punto 1) es Conocer las ventas totales del comercio\n"
   ]
  },
  {
   "cell_type": "code",
   "execution_count": null,
   "metadata": {},
   "outputs": [],
   "source": [
    "import pandas as pd\n",
    "import matplotlib.pyplot as plt\n",
    "import numpy as np"
   ]
  },
  {
   "cell_type": "code",
   "execution_count": null,
   "metadata": {},
   "outputs": [],
   "source": [
    "proyecto1=pd.read_csv('/Users/leonardomaldonadoalcala/MALDONADO_ALCALA_LEONARDO_6IV8_ANALISIS_DE_DATOS/ElementosBasicosEstadistica/proyecto1.csv')\n",
    "catalogo_sucursales=pd.read_csv('/Users/leonardomaldonadoalcala/MALDONADO_ALCALA_LEONARDO_6IV8_ANALISIS_DE_DATOS/ElementosBasicosEstadistica/Catalogo_sucursal.csv')\n",
    "\n",
    "ventasTotales = proyecto1['ventas_tot'].sum()\n",
    "print(f'Las ventas totales son de  = {ventasTotales}')"
   ]
  },
  {
   "cell_type": "markdown",
   "metadata": {},
   "source": [
    "El punto 2 pide conocer el porcentaje de adeudados y no adeudados"
   ]
  },
  {
   "cell_type": "code",
   "execution_count": null,
   "metadata": {},
   "outputs": [],
   "source": [
    "adeudados = (proyecto1['B_adeudo']== 'Con adeudo').sum()\n",
    "noAdeudados = (proyecto1['B_adeudo']== 'Sin adeudo').sum()\n",
    "print(f'Socios con adeudos = {adeudados}')\n",
    "print(f'Socios sin adeudos = {noAdeudados}')\n",
    "print(f'Porcentaje de adeudos = {adeudados/len(proyecto1)*100}%')\n",
    "print(f'Porcentaje de no adeudos = {noAdeudados/len(proyecto1)*100}%')"
   ]
  },
  {
   "cell_type": "markdown",
   "metadata": {},
   "source": [
    "Grafica donde se pueda observar las ventas totales respecto del tiempo, en una grafica de barras \n"
   ]
  },
  {
   "cell_type": "code",
   "execution_count": null,
   "metadata": {},
   "outputs": [],
   "source": [
    "tiempo = proyecto1['B_mes']\n",
    "for fecha in tiempo.unique():\n",
    "    plt.hist(proyecto1[tiempo == fecha]['ventas_tot'], bins=10, alpha=0.5, label=f' {fecha}')\n",
    "\n",
    "plt.title('Histograma de ventas totales por mes')\n",
    "plt.xlabel('Ventas totales')\n",
    "plt.ylabel('Frecuencia')\n",
    "plt.legend()\n",
    "plt.show()"
   ]
  },
  {
   "cell_type": "markdown",
   "metadata": {},
   "source": [
    "Grafica donde se pueda visualizar la desviación estándar de los pagos realizados del comercio respecto del tiempo"
   ]
  },
  {
   "cell_type": "code",
   "execution_count": null,
   "metadata": {},
   "outputs": [],
   "source": [
    "\n",
    "std_por_fecha = []\n",
    "fechas = []\n",
    "\n",
    "for fecha in tiempo.unique():\n",
    "    std = proyecto1[tiempo == fecha]['pagos_tot'].std()\n",
    "    std_por_fecha.append(std)\n",
    "    fechas.append(fecha)\n",
    "    \n",
    "plt.figure(figsize=(12, 6))\n",
    "plt.bar(fechas, std_por_fecha)\n",
    "plt.title('Desviación estándar de ventas totales por periodo de tiempo')\n",
    "plt.xlabel('Periodo de tiempo')\n",
    "plt.ylabel('Desviación estándar')\n",
    "plt.xticks(rotation=45)\n",
    "plt.tight_layout()\n",
    "plt.show()"
   ]
  },
  {
   "cell_type": "markdown",
   "metadata": {},
   "source": [
    "Deuda total de clientes"
   ]
  },
  {
   "cell_type": "code",
   "execution_count": null,
   "metadata": {},
   "outputs": [],
   "source": [
    "deuda_total = proyecto1['adeudo_actual'].sum()\n",
    "print(f'Deuda total = {deuda_total}')"
   ]
  },
  {
   "cell_type": "markdown",
   "metadata": {},
   "source": [
    "Cuanto es el porcentaje de utilidad del comercio a partir de el total de las ventas respecto del adeudo "
   ]
  },
  {
   "cell_type": "code",
   "execution_count": null,
   "metadata": {},
   "outputs": [],
   "source": [
    "utildad = ventasTotales - deuda_total\n",
    "print(f'Utilidad = {utildad}')\n",
    "utildad_porcentaje = utildad/ventasTotales*100\n",
    "print(f'Utilidad porcentaje = {utildad_porcentaje} %')"
   ]
  },
  {
   "cell_type": "code",
   "execution_count": null,
   "metadata": {},
   "outputs": [],
   "source": [
    "\n",
    "mapeo_sucursales = dict(zip(catalogo_sucursales['id_sucursal'], catalogo_sucursales['suc']))\n",
    "proyecto1['id_sucursal'] = proyecto1['id_sucursal'].map(mapeo_sucursales)\n",
    "\n",
    "proyecto1"
   ]
  },
  {
   "cell_type": "markdown",
   "metadata": {},
   "source": [
    "Gráfica de pastel ventas por sucursal"
   ]
  },
  {
   "cell_type": "code",
   "execution_count": null,
   "metadata": {},
   "outputs": [],
   "source": [
    "ventas_por_sucursal = proyecto1.groupby('id_sucursal')['ventas_tot'].sum()\n",
    "\n",
    "plt.figure(figsize=(10, 8))\n",
    "plt.pie(ventas_por_sucursal.values, labels=ventas_por_sucursal.index, autopct='%1.1f%%')\n",
    "plt.title('Distribución de Ventas por Sucursal')\n",
    "\n",
    "plt.legend(title=\"Sucursales\", bbox_to_anchor=(1.05, 1), loc='upper left')\n",
    "\n",
    "plt.tight_layout()\n",
    "plt.show()"
   ]
  },
  {
   "cell_type": "markdown",
   "metadata": {},
   "source": [
    "Presentar un grafico de cuales son las deudas totales por cada sucursal respecto del margen de utilidad de cada sucursal."
   ]
  },
  {
   "cell_type": "code",
   "execution_count": null,
   "metadata": {},
   "outputs": [],
   "source": [
    "deudas_por_sucursal = proyecto1.groupby('id_sucursal')['adeudo_actual'].sum()\n",
    "ventas_por_sucursal = proyecto1.groupby('id_sucursal')['ventas_tot'].sum()\n",
    "margen_por_sucursal = ventas_por_sucursal-deudas_por_sucursal\n",
    "\n",
    "fig, ax = plt.subplots(figsize=(12, 6))\n",
    "\n",
    "x = np.arange(len(deudas_por_sucursal))\n",
    "width = 0.35\n",
    "\n",
    "rects1 = ax.bar(x - width/2, deudas_por_sucursal, width, label='Deudas Totales')\n",
    "rects2 = ax.bar(x + width/2, margen_por_sucursal, width, label='Margen de Utilidad')\n",
    "\n",
    "ax.set_ylabel('Monto ($)')\n",
    "ax.set_title('Deudas Totales vs Margen de Utilidad por Sucursal')\n",
    "ax.set_xticks(x)\n",
    "ax.set_xticklabels(deudas_por_sucursal.index, rotation=45)\n",
    "ax.legend()\n",
    "\n",
    "def autolabel(rects):\n",
    "    for rect in rects:\n",
    "        height = rect.get_height()\n",
    "        ax.annotate(f'{height:,.0f}',\n",
    "                    xy=(rect.get_x() + rect.get_width() / 2, height),\n",
    "                    xytext=(0, 3), \n",
    "                    textcoords=\"offset points\",\n",
    "                    ha='center', va='bottom', rotation=0)\n",
    "\n",
    "plt.tight_layout()\n",
    "plt.show()"
   ]
  }
 ],
 "metadata": {
  "kernelspec": {
   "display_name": "Python 3",
   "language": "python",
   "name": "python3"
  },
  "language_info": {
   "codemirror_mode": {
    "name": "ipython",
    "version": 3
   },
   "file_extension": ".py",
   "mimetype": "text/x-python",
   "name": "python",
   "nbconvert_exporter": "python",
   "pygments_lexer": "ipython3",
   "version": "3.11.4"
  }
 },
 "nbformat": 4,
 "nbformat_minor": 2
}
